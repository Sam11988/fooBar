{
 "cells": [
  {
   "cell_type": "code",
   "execution_count": null,
   "id": "c42843c8",
   "metadata": {},
   "outputs": [],
   "source": [
    "# To access file and prompt:\n",
    "# \"edit braille-translation\"\n",
    "# use \"cat readme.txt\""
   ]
  },
  {
   "cell_type": "markdown",
   "id": "b1192626",
   "metadata": {},
   "source": [
    "Go here for a visual example of Braille: http://www.byronknoll.com/braille2.html?text=code"
   ]
  },
  {
   "cell_type": "markdown",
   "id": "4346091b",
   "metadata": {},
   "source": [
    "Braille Translation\n",
    "===================\n",
    "\n",
    "Because Commander Lambda is an equal-opportunity despot, they have several visually-impaired minions. But Lambda never bothered to follow intergalactic standards for workplace accommodations, so those minions have a hard time navigating her space station. You figure printing out Braille signs will help them, and -- since you'll be promoting efficiency at the same time -- increase your chances of a promotion. \n",
    "\n",
    "Braille is a writing system used to read by touch instead of by sight. Each character is composed of 6 dots in a 2x3 grid, where each dot can either be a bump or be flat (no bump). You plan to translate the signs around the space station to Braille so that the minions under Commander Lambda's command can feel the bumps on the signs and \"read\" the text with their touch. The special printer which can print the bumps onto the signs expects the dots in the following order:\n",
    "1 4\n",
    "2 5\n",
    "3 6\n",
    "\n",
    "So given the plain text word \"code\", you get the Braille dots:\n",
    "\n",
    "11 10 11 10\n",
    "00 01 01 01\n",
    "00 10 00 00\n",
    "\n",
    "where 1 represents a bump and 0 represents no bump.  Put together, \"code\" becomes the output string \"100100101010100110100010\".\n",
    "\n",
    "Write a function solution(plaintext) that takes a string parameter and returns a string of 1's and 0's representing the bumps and absence of bumps in the input string. Your function should be able to encode the 26 lowercase letters, handle capital letters by adding a Braille capitalization mark before that character, and use a blank character (000000) for spaces. All signs on the space station are less than fifty characters long and use only letters and spaces."
   ]
  },
  {
   "cell_type": "markdown",
   "id": "ff3118b0",
   "metadata": {},
   "source": [
    "-- Python cases --\n",
    "Input:\n",
    "solution.solution(\"code\")\n",
    "Output:\n",
    "    100100101010100110100010\n",
    "\n",
    "Input:\n",
    "solution.solution(\"Braille\")\n",
    "Output:\n",
    "    000001110000111010100000010100111000111000100010\n",
    "\n",
    "Input:\n",
    "solution.solution(\"The quick brown fox jumps over the lazy dog\")\n",
    "Output:\n",
    "    000001011110110010100010000000111110101001010100100100101000000000110000111010101010010111101110000000110100101010101101000000010110101001101100111100011100000000101010111001100010111010000000011110110010100010000000111000100000101011101111000000100110101010110110"
   ]
  },
  {
   "cell_type": "code",
   "execution_count": 13,
   "id": "f3401597",
   "metadata": {},
   "outputs": [],
   "source": [
    "import numpy as np"
   ]
  },
  {
   "cell_type": "code",
   "execution_count": 32,
   "id": "7107c615",
   "metadata": {},
   "outputs": [],
   "source": [
    "## create library for each letter of braille\n",
    "## 1-4, 2-5, 3-6 Simple formula\n",
    "\n",
    "braille_alphabet_dict = {\n",
    "    ## returns matrix of braille letters\n",
    "    ## always some unique combination of couples\n",
    "    ## follows pattern:\n",
    "    ## Braille Dots \n",
    "    ##[\n",
    "    ## [1,4]\n",
    "    ## [2,5],\n",
    "    ## [3,6],\n",
    "    ##]\n",
    "    \"a\": [[1,0],[0,0],[0,0]], #1\n",
    "    \"b\": [[1,0],[1,0],[0,0]], #12\n",
    "    \"c\": [[1,1],[0,0],[0,0]], #14\n",
    "    \"d\": [[1,1],[0,1],[0,0]], #145\n",
    "    \"e\": [[1,0],[0,1],[0,0]], #15\n",
    "    \"f\": [[1,1],[1,0],[0,0]], #124\n",
    "    \"g\": [[1,1],[1,1],[0,0]], #1245\n",
    "    \"h\": [[1,1],[0,5],[0,0]], #125\n",
    "    \"i\": [[0,1],[1,0],[0,0]], #24\n",
    "    \"j\": [[0,1],[1,1],[0,0]], #245\n",
    "    \"k\": [[1,0],[0,0],[1,0]], #13\n",
    "    \"l\": [[1,0],[1,0],[1,0]], #123\n",
    "    \"m\": [[1,1],[0,0],[1,0]], #134\n",
    "    \"n\": [[1,1],[0,1],[1,0]], #1345\n",
    "    \"o\": [[1,0],[0,1],[1,0]], #135\n",
    "    \"p\": [[1,1],[1,0],[1,0]], #1234\n",
    "    \"q\": [[1,1],[1,1],[1,0]], #12345\n",
    "    \"r\": [[1,0],[1,1],[1,0]], #1235\n",
    "    \"s\": [[0,1],[1,0],[1,0]], #234\n",
    "    \"t\": [[0,1],[1,1],[1,0]], #2345\n",
    "    \"u\": [[1,0],[0,0],[1,1]], #136\n",
    "    \"v\": [[1,0],[1,0],[1,1]], #1236\n",
    "    \"w\": [[0,1],[1,1],[0,1]], #2456\n",
    "    \"x\": [[1,1],[0,0],[1,1]], #1346\n",
    "    \"y\": [[1,1],[0,1],[1,1]], #13456\n",
    "    \"z\": [[1,0],[0,1],[1,1]] #1356\n",
    "}\n",
    "\n",
    "## Capitalization Code lists for use below\n",
    "capitalization_code = np.array([0,0,0,0,0,1]) ## as an array\n",
    "capitalization_code_matrix = np.array([[0,0],[0,0],[0,1]]) ## matrix version just in case\n",
    "\n",
    "blank_character = np.array([0,0,0,0,0,0]) ## as an array\n",
    "blank_character_matrix = np.array([[0,0],[0,0],[0,0]]) ## matrix version just in case"
   ]
  },
  {
   "cell_type": "code",
   "execution_count": 39,
   "id": "ba98c126",
   "metadata": {},
   "outputs": [
    {
     "name": "stdout",
     "output_type": "stream",
     "text": [
      "[1, 0]\n",
      "[0, 0]\n",
      "[0, 0]\n"
     ]
    }
   ],
   "source": [
    "## Callable items in dictionary\n",
    "print(braille_alphabet_dict['a'][0])\n",
    "print(braille_alphabet_dict['a'][1])\n",
    "print(braille_alphabet_dict['a'][2])"
   ]
  },
  {
   "cell_type": "code",
   "execution_count": 83,
   "id": "1459d132",
   "metadata": {},
   "outputs": [
    {
     "name": "stdout",
     "output_type": "stream",
     "text": [
      "['w', 'o', 'r', 'd']\n",
      "['t', 'e', 's', 't', 'W', 'o', 'r', 'd']\n",
      "['w', 'W', 'o', 'O', 'r', 'R', 'd', 'D']\n"
     ]
    }
   ],
   "source": [
    "## break apart each string into separate parts\n",
    "def split(word):\n",
    "    return [char for char in word]\n",
    "\n",
    "## Unit Test\n",
    "word = 'word'\n",
    "print(split(word))\n",
    "\n",
    "testWord = 'testWord'\n",
    "print(split(testWord))\n",
    "\n",
    "wWoOrRdD = 'wWoOrRdD'\n",
    "print(split(wWoOrRdD))"
   ]
  },
  {
   "cell_type": "code",
   "execution_count": 119,
   "id": "3b283b47",
   "metadata": {},
   "outputs": [],
   "source": [
    "def split_word(word):\n",
    "    for letter in word:\n",
    "        res = []\n",
    "        if letter.lower() in braille_alphabet_dict:\n",
    "            counter = 0\n",
    "            while counter < 3:\n",
    "                res.append(braille_alphabet_dict[letter.lower()][counter])\n",
    "                counter = counter+1\n",
    "            print(res)"
   ]
  },
  {
   "cell_type": "code",
   "execution_count": 115,
   "id": "a71a68a0",
   "metadata": {},
   "outputs": [
    {
     "name": "stdout",
     "output_type": "stream",
     "text": [
      "[[0, 1], [1, 1], [0, 1]]\n",
      "[[1, 0], [0, 1], [1, 0]]\n",
      "[[1, 0], [1, 1], [1, 0]]\n",
      "[[1, 1], [0, 1], [0, 0]]\n",
      "[[1, 0], [1, 0], [1, 0]]\n",
      "[[1, 0], [0, 1], [0, 0]]\n"
     ]
    }
   ],
   "source": [
    "split_word('Wordle')"
   ]
  },
  {
   "cell_type": "code",
   "execution_count": 118,
   "id": "338730f0",
   "metadata": {},
   "outputs": [
    {
     "name": "stdout",
     "output_type": "stream",
     "text": [
      "[[0, 1], [1, 0], [1, 0]]\n",
      "[[1, 0], [0, 0], [0, 0]]\n",
      "[[1, 1], [0, 0], [1, 0]]\n"
     ]
    }
   ],
   "source": [
    "split_word('Sam')"
   ]
  },
  {
   "cell_type": "code",
   "execution_count": 68,
   "id": "88611512",
   "metadata": {},
   "outputs": [],
   "source": [
    "## returns braille matrix of letter\n",
    "brailled_letter_list = []\n",
    "def other_brailler(x, list):\n",
    "    \n",
    "    brailled_letter_list.append(list)\n",
    "    print(braille_alphabet_dict[x][0])\n",
    "    \n",
    "    brailled_letter_list.append(list)\n",
    "    print(braille_alphabet_dict[x][1])\n",
    "    \n",
    "    brailled_letter_list.append(list)\n",
    "    print(braille_alphabet_dict[x][2])\n",
    "    \n",
    "    return(brailled_letter_list)"
   ]
  },
  {
   "cell_type": "code",
   "execution_count": 73,
   "id": "45710dfa",
   "metadata": {},
   "outputs": [
    {
     "name": "stdout",
     "output_type": "stream",
     "text": [
      "[['Millie', 'Caleb', 'Gaten'], ['Finn', 'Noah', 'Sadie'], ['Millie', 'Caleb', 'Gaten']]\n"
     ]
    }
   ],
   "source": [
    "## Proof of concept\n",
    "brailled_letter_list = []\n",
    "listA = [\"Millie\",\"Caleb\",\"Gaten\"]\n",
    "listB = [\"Finn\",\"Noah\",\"Sadie\"]\n",
    "\n",
    "## Append each list\n",
    "brailled_letter_list.append(listA)\n",
    "brailled_letter_list.append(listB)\n",
    "brailled_letter_list.append(listA)\n",
    "print(brailled_letter_list)"
   ]
  },
  {
   "cell_type": "code",
   "execution_count": null,
   "id": "afd449ee",
   "metadata": {},
   "outputs": [],
   "source": [
    "## convert into braille equivalent matrix"
   ]
  },
  {
   "cell_type": "markdown",
   "id": "1a6edfe4",
   "metadata": {},
   "source": [
    "## Print"
   ]
  },
  {
   "cell_type": "code",
   "execution_count": 16,
   "id": "3e7a83d4",
   "metadata": {},
   "outputs": [],
   "source": [
    "## example matrix 2x3 matrix\n",
    "test_matrix = np.array([\n",
    "    [1,1],[0,0],[0,0]\n",
    "])"
   ]
  },
  {
   "cell_type": "code",
   "execution_count": 17,
   "id": "29403ffe",
   "metadata": {},
   "outputs": [
    {
     "name": "stdout",
     "output_type": "stream",
     "text": [
      "[[1 1]\n",
      " [0 0]\n",
      " [0 0]]\n"
     ]
    }
   ],
   "source": [
    "## Prints array within a list\n",
    "print(test_matrix)"
   ]
  },
  {
   "cell_type": "code",
   "execution_count": 19,
   "id": "720e1c2f",
   "metadata": {},
   "outputs": [
    {
     "name": "stdout",
     "output_type": "stream",
     "text": [
      "[1 1] [0 0] [0 0]\n"
     ]
    }
   ],
   "source": [
    "## Prints array pairs in order\n",
    "print(*test_matrix)"
   ]
  },
  {
   "cell_type": "code",
   "execution_count": 18,
   "id": "6961e46e",
   "metadata": {},
   "outputs": [
    {
     "name": "stdout",
     "output_type": "stream",
     "text": [
      "[1 1]\n",
      "[0 0]\n",
      "[0 0]\n"
     ]
    }
   ],
   "source": [
    "## Prints array as is, with brackets\n",
    "for x in range(len(test_matrix)):\n",
    "    print(test_matrix[x])"
   ]
  },
  {
   "cell_type": "code",
   "execution_count": 20,
   "id": "77387077",
   "metadata": {},
   "outputs": [
    {
     "name": "stdout",
     "output_type": "stream",
     "text": [
      "1 1\n",
      "0 0\n",
      "0 0\n"
     ]
    }
   ],
   "source": [
    "## Prints array as is, no brackets\n",
    "for line in test_matrix:\n",
    "    print(' '.join(map(str, line)))"
   ]
  },
  {
   "cell_type": "code",
   "execution_count": 81,
   "id": "a62f511f",
   "metadata": {},
   "outputs": [
    {
     "name": "stdout",
     "output_type": "stream",
     "text": [
      "110000\n"
     ]
    }
   ],
   "source": [
    "## Prints in one line with a '' separator, separate control for feature\n",
    "print(''.join([''.join(['{:1}'.format(item) for item in row]) ## using {:1} = no spaces, {:2} = 1 space, etc.\n",
    "              for row in test_matrix]))"
   ]
  },
  {
   "cell_type": "code",
   "execution_count": null,
   "id": "0d720de1",
   "metadata": {},
   "outputs": [],
   "source": []
  }
 ],
 "metadata": {
  "kernelspec": {
   "display_name": "Python 3 (ipykernel)",
   "language": "python",
   "name": "python3"
  },
  "language_info": {
   "codemirror_mode": {
    "name": "ipython",
    "version": 3
   },
   "file_extension": ".py",
   "mimetype": "text/x-python",
   "name": "python",
   "nbconvert_exporter": "python",
   "pygments_lexer": "ipython3",
   "version": "3.9.7"
  }
 },
 "nbformat": 4,
 "nbformat_minor": 5
}
